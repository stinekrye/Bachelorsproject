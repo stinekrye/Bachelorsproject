{
 "cells": [
  {
   "cell_type": "code",
   "execution_count": 10,
   "metadata": {
    "scrolled": true
   },
   "outputs": [],
   "source": [
    "import pandas as pd\n",
    "df = pd.read_csv('data_from_ALL_DH_domains_ALL_mibig_NCBI_unique_names_w_flanks.txt', sep='\\t')\n",
    "df = df.reset_index(drop=True)\n",
    "df=df.drop(columns=['KRDH', 'HGHP','HGHP_seq','Unnamed: 0'])\n",
    "df.to_csv('DH_tablefile_w_flanks.txt', sep='\\t')"
   ]
  },
  {
   "cell_type": "code",
   "execution_count": null,
   "metadata": {},
   "outputs": [],
   "source": []
  },
  {
   "cell_type": "code",
   "execution_count": 8,
   "metadata": {},
   "outputs": [
    {
     "name": "stdout",
     "output_type": "stream",
     "text": [
      "Index(['name', 'AAseq'], dtype='object')\n"
     ]
    }
   ],
   "source": [
    "print(df.keys())"
   ]
  },
  {
   "cell_type": "code",
   "execution_count": 11,
   "metadata": {},
   "outputs": [],
   "source": [
    "file=open('DH_sequences_w_flanks.fasta','w')\n",
    "for i in range(len(df)):\n",
    "    file.write('>{}'.format(''.join(list(df['name'][i:i+1]))))\n",
    "    file.write('\\n')\n",
    "    file.write(''.join(list(df['AAseq'][i:i+1])))\n",
    "    file.write('\\n')\n",
    "file.close()"
   ]
  }
 ],
 "metadata": {
  "kernelspec": {
   "display_name": "Python 3",
   "language": "python",
   "name": "python3"
  },
  "language_info": {
   "codemirror_mode": {
    "name": "ipython",
    "version": 3
   },
   "file_extension": ".py",
   "mimetype": "text/x-python",
   "name": "python",
   "nbconvert_exporter": "python",
   "pygments_lexer": "ipython3",
   "version": "3.7.4"
  }
 },
 "nbformat": 4,
 "nbformat_minor": 2
}
