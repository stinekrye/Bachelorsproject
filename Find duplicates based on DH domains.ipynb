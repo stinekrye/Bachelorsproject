{
 "cells": [
  {
   "cell_type": "markdown",
   "metadata": {},
   "source": [
    "# Find all that is duplicated"
   ]
  },
  {
   "cell_type": "markdown",
   "metadata": {},
   "source": [
    "### Strategy\n",
    "1) Do pairwise alignment with all sequences <br> \n",
    "2) If some meets the threshold of 0.98 (set by the BE-duplicates, which is the only known duplicates, 0.986) then they are tested for same organism name and same GCX id (just the numbers without the GCF_ and .1 part) <br>\n",
    "3) If the pair is a MIBiG / NCBI pair, then only the names of the organisms has to match. If the pair is a NCBI / NCBI pair then their GCX id does also have to match, <br>\n",
    "4) Keep the largest duplicate\n",
    "5) Move all files to a new folder, and leave the smallest file from the duplicated pairs behind."
   ]
  },
  {
   "cell_type": "markdown",
   "metadata": {},
   "source": [
    "Alignment: https://stackoverflow.com/questions/55326610/show-only-dna-alignment-score-in-biopython"
   ]
  },
  {
   "cell_type": "markdown",
   "metadata": {},
   "source": [
    "Make new folder with all intern duplicates deleted:\n",
    "https://datatofish.com/copy-file-python/"
   ]
  },
  {
   "cell_type": "markdown",
   "metadata": {},
   "source": [
    "# Code"
   ]
  },
  {
   "cell_type": "code",
   "execution_count": 1,
   "metadata": {},
   "outputs": [],
   "source": [
    "import pandas as pd\n",
    "import os\n",
    "from Bio import SeqIO"
   ]
  },
  {
   "cell_type": "code",
   "execution_count": 2,
   "metadata": {},
   "outputs": [],
   "source": [
    "all_DHs=pd.read_csv('DH_tablefile.txt', sep='\\t')\n",
    "all_DHs=all_DHs.drop(columns=['Unnamed: 0'])"
   ]
  },
  {
   "cell_type": "code",
   "execution_count": 3,
   "metadata": {},
   "outputs": [],
   "source": [
    "BGC=all_DHs[all_DHs['name'].str.contains(\"BGC\")].reset_index(drop=True)\n",
    "RS=all_DHs[all_DHs['name'].str.contains(\"WP_\")].reset_index(drop=True)\n",
    "GB=all_DHs[~all_DHs['name'].str.contains(\"WP_|BGC\")].reset_index(drop=True)"
   ]
  },
  {
   "cell_type": "code",
   "execution_count": 4,
   "metadata": {},
   "outputs": [],
   "source": [
    "def find_filesize(group):\n",
    "    size = []\n",
    "    for filename in group:\n",
    "        size.append(os.path.getsize(r\"C:\\Users\\ASUS\\Desktop\\ny_bigscape_in\\All\\{}\".format(filename)))\n",
    "    return size\n",
    "\n",
    "# print(find_filesize(['PZM89247.1.region001.gbk', 'RQX47637.1.region001.gbk']))"
   ]
  },
  {
   "cell_type": "code",
   "execution_count": 12,
   "metadata": {},
   "outputs": [],
   "source": [
    "def get_alignment_scores(dataframe):\n",
    "    groups=[]\n",
    "    from Bio import Align \n",
    "    count=0\n",
    "    for i in range(len(dataframe['AAseq'])):\n",
    "        for j in range(i,len(dataframe['AAseq'])):\n",
    "            if i != j:\n",
    "                seq1 = list(dataframe['AAseq'][i:i+1])\n",
    "                seq2 = list(dataframe['AAseq'][j:j+1])\n",
    "                aligner = Align.PairwiseAligner()\n",
    "#               alignments = aligner.align(seq1[0],seq2[0])\n",
    "                score=aligner.score(seq1[0],seq2[0])\n",
    "                value=score/max(len(seq1[0]),len(seq2[0]))\n",
    "#                 count +=1\n",
    "                if value >= 0.98 and value <= 1:\n",
    "                    count+=1\n",
    "                    groups.append([list(dataframe['name'][i:i+1]),list(dataframe['name'][j:j+1])])\n",
    "#             print(count)\n",
    "    return groups"
   ]
  },
  {
   "cell_type": "code",
   "execution_count": 6,
   "metadata": {},
   "outputs": [],
   "source": [
    "def find_names(group):\n",
    "    proteinIDs=[]\n",
    "    filenames=[]\n",
    "    for name in group:\n",
    "            name=''.join(name)\n",
    "            if name[-1] == 'X':\n",
    "                file_name=name.split('X')\n",
    "                if len(file_name[0]) < 3:\n",
    "                    name=file_name[0]+'X'+file_name[1]\n",
    "                    filenames.append(name+'.gbk')\n",
    "#                     print(proteinID_real)\n",
    "                else:\n",
    "                    name=file_name[0]\n",
    "                    filenames.append(name+'.gbk')\n",
    "            else:\n",
    "                filenames.append(name+'.gbk')\n",
    "            proteinID=name.split('.')\n",
    "            if len(proteinID) > 1:\n",
    "                proteinID_real = proteinID[0]+'.'+proteinID[1]\n",
    "                proteinIDs.append(proteinID_real)\n",
    "            if len(proteinID)==1:\n",
    "                proteinIDs.append(proteinID[0])\n",
    "    return proteinIDs, filenames\n",
    "\n",
    "# print(find_names(['PZM89247.1.region001X', 'BGC0000003XX']))\n",
    "# print(find_names(['BGC0000093', 'WP_063273420.1']))"
   ]
  },
  {
   "cell_type": "code",
   "execution_count": 7,
   "metadata": {},
   "outputs": [],
   "source": [
    "def find_BGC_data(gb_file_name):\n",
    "    for rec in SeqIO.parse(gb_file_name, 'gb'):\n",
    "        organism=rec.annotations[\"organism\"]\n",
    "    return organism\n",
    "# test=find_BGC_data(r'C:\\Users\\ASUS\\OneDrive - Aarhus Universitet\\Bachelorprojekt\\Fra skrivebordet\\ny_bigscape_in\\All\\BGC0000001.gbk')\n",
    "# print(test)"
   ]
  },
  {
   "cell_type": "code",
   "execution_count": 8,
   "metadata": {},
   "outputs": [],
   "source": [
    "# Will only return group if the smallest name is similar to the largest one. These has to be checked manually\n",
    "# https://www.geeksforgeeks.org/python-find-maximum-length-sub-list-in-a-nested-list/\n",
    "# This might not work with BGC -> genbank dubs\n",
    "# Antagelser: Hvis en MIBIG og NCBI resultat har samme organisme navn, og mathende dehydrataser, så er det samme resultat\n",
    "# Antagelser: Hvis GCF og GCA har samme NUMMER så er det samme organisme.\n",
    "def test_organism_same(group):\n",
    "    df=pd.read_csv(r'C:\\Users\\ASUS\\OneDrive - Aarhus Universitet\\Bachelorprojekt\\Fra skrivebordet\\Finished_data\\extract100kb_500_hits\\blastp_500_all_data_no_duplicates_sorted.txt', sep='\\t')\n",
    "    test=[]\n",
    "    full =[]\n",
    "    GCX=[]\n",
    "    for proteinID in group:\n",
    "        if \"BGC\" in proteinID:\n",
    "            path=r'C:\\Users\\ASUS\\Desktop\\ny_bigscape_in\\All\\{}.gbk'.format(proteinID)\n",
    "            organism=find_BGC_data(path)\n",
    "            full.append(organism)\n",
    "            GCX.append(None)\n",
    "        else:\n",
    "            full.append(''.join(list(df[df['proteinID']==proteinID]['Organism'])))\n",
    "            GCX_id=''.join(list(df[df['proteinID']==proteinID]['GCX_id']))\n",
    "            GCX_id=GCX_id[4:13]\n",
    "            GCX.append(GCX_id)\n",
    "        splits=[]\n",
    "    for name in range(len(full)):\n",
    "        splits.append(full[name].split(' '))\n",
    "    for i in range(len(splits)):\n",
    "        test.append([])\n",
    "        for j in range(min(map(len,splits))):\n",
    "            test[i].append(splits[i][j]) \n",
    "        test[i]=' '.join(test[i])   \n",
    "#     print(test)\n",
    "#     print(group[0])\n",
    "    if \"BGC\" in group[0] or \"BGC\" in group[1]:\n",
    "        if test[0] == test[1]:\n",
    "            return group, full        \n",
    "    else:\n",
    "        if test[0] == test[1] and GCX[0] == GCX[1]:\n",
    "            return group, full\n",
    "\n",
    "# print(test_organism_same(['BGC0001330', 'WP_047890614.1']))\n",
    "# print(test_organism_same(['SFO58424.1', 'SPT57320.1']))\n",
    "\n",
    "# print(test_organism_same(['APY90477.1', 'WP_103557568.1']))\n",
    "# print(test_organism_same(['BGC0001330', 'BGC0001331']))\n"
   ]
  },
  {
   "cell_type": "code",
   "execution_count": 9,
   "metadata": {},
   "outputs": [],
   "source": [
    "#It will find the smallest file to delete\n",
    "def find_filenames_single_g(list_of_groups):\n",
    "    smallest=[]\n",
    "    del_list=[]\n",
    "    for group in list_of_groups:\n",
    "#         print(group)\n",
    "        proteinIDs=find_names(group)[0]\n",
    "#         print(proteinIDs)\n",
    "        filenames=find_names(group)[1]\n",
    "#         print(filenames)\n",
    "        if test_organism_same(proteinIDs) != None:\n",
    "            if [test_organism_same(proteinIDs)[1],test_organism_same(proteinIDs)[0]] not in del_list:\n",
    "                del_list.append([test_organism_same(proteinIDs)[1],test_organism_same(proteinIDs)[0]])\n",
    "            sizes=find_filesize(filenames)\n",
    "            zipped_lists = zip(sizes,filenames)\n",
    "            sorted_pairs=sorted(zipped_lists)\n",
    "            tuples = zip(*sorted_pairs)\n",
    "            if len(sizes) > 1:\n",
    "                sizes, file_names = [list(tuple) for tuple in tuples]\n",
    "            for i in file_names[0:-1]:\n",
    "                if i not in smallest:\n",
    "                    smallest.append(i)\n",
    "    print(del_list)\n",
    "    return smallest\n",
    "# print(find_filenames_single_g([['BGC0000093', 'WP_063273420.1'],['BGC0000093', 'WP_063273420.1']]))                              \n",
    "# print(find_filenames_single_g([['BGC0001330', 'BGC0001331'],['PZM89247.1.region001X', 'RQX47637.1.region001XX']]))"
   ]
  },
  {
   "cell_type": "code",
   "execution_count": 10,
   "metadata": {},
   "outputs": [],
   "source": [
    "def intern_del_list(dataframe):\n",
    "    list_of_groups=get_alignment_scores(dataframe)\n",
    "    smallest=find_filenames_single_g(list_of_groups)\n",
    "    return smallest"
   ]
  },
  {
   "cell_type": "code",
   "execution_count": 37,
   "metadata": {},
   "outputs": [],
   "source": [
    "# GB_intern_dub=intern_del_list(GB)\n",
    "# RS_intern_dub=intern_del_list(RS)\n",
    "# BGC_intern_dub=intern_del_list(BGC[0:200])"
   ]
  },
  {
   "cell_type": "markdown",
   "metadata": {},
   "source": [
    "# Find list of files to delete"
   ]
  },
  {
   "cell_type": "code",
   "execution_count": 11,
   "metadata": {
    "scrolled": true
   },
   "outputs": [
    {
     "name": "stdout",
     "output_type": "stream",
     "text": [
      "[[['Amycolatopsis keratiniphila', 'Amycolatopsis keratiniphila'], ['AGM05849.1', 'WP_043848779.1']], [['Sandaracinus amylolyticus', 'Sandaracinus amylolyticus'], ['AKF07185.1', 'WP_083458533.1']], [['Streptomyces sp. CNQ-509', 'Streptomyces sp. CNQ-509'], ['AKH87109.1', 'WP_078898505.1']], [['Streptomyces alfalfae', 'Streptomyces alfalfae'], ['APY90477.1', 'WP_103557568.1']], [['Micromonospora sp. M42', 'Micromonospora sp. M42'], ['EWM63004.1', 'BGC0001328']], [['Streptomyces sp. OspMP-M45', 'Streptomyces sp. OspMP-M45'], ['SBU93598.1', 'WP_093675912.1']], [['Micromonospora purpureochromogenes', 'Micromonospora purpureochromogenes'], ['SCF27481.1', 'WP_088964688.1']], [[\"Nostoc sp. 'Peltigera membranacea cyanobiont' N6\", \"Nostoc sp. 'Peltigera membranacea cyanobiont'\"], ['WP_104899371.1', 'BGC0001071']], [['Streptomyces sp. MspMP-M5', 'Streptomyces sp. MspMP-M5'], ['WP_106731933.1', 'BGC0001332']], [['Sorangium cellulosum', 'Sorangium cellulosum'], ['BGC0000014', 'BGC0000080']], [['Streptomyces hygroscopicus', 'Streptomyces hygroscopicus'], ['BGC0000066', 'BGC0000074']], [['Aspergillus terreus NIH2624', 'Aspergillus terreus'], ['BGC0000160', 'BGC0001276']], [['Streptomyces sp. NRRL 11266', 'Streptomyces sp. NRRL 11266'], ['BGC0000164', 'BGC0000164']], [['Streptomyces sp. NBRC 109706', 'Streptomyces sp. NBRC 109706'], ['BGC0001199', 'BGC0001199']], [['Penicillium roqueforti FM164', 'Penicillium roqueforti'], ['BGC0001360', 'BGC0001677']], [['Streptomyces sp. NBRC 110030', 'Streptomyces sp. NBRC 110030'], ['BGC0001537', 'BGC0001537']]]\n"
     ]
    }
   ],
   "source": [
    "across=intern_del_list(all_DHs)"
   ]
  },
  {
   "cell_type": "markdown",
   "metadata": {},
   "source": [
    "Manually adjust 9 enteries to keep MIBIG results instead of NCBI. Se notes. Adjust so it matches what you have sent to Daniela"
   ]
  },
  {
   "cell_type": "code",
   "execution_count": 26,
   "metadata": {},
   "outputs": [
    {
     "name": "stdout",
     "output_type": "stream",
     "text": [
      "['AGM05849.1.region001.gbk', 'AKF07185.1.region001.gbk', 'AKH87109.1.region001.gbk', 'APY90477.1.region001.gbk', 'EWM63004.1.region001.gbk', 'WP_093675912.1.region001.gbk', 'SCF27481.1.region001.gbk', 'WP_104899371.1.region001.gbk', 'WP_106731933.1.region001.gbk', 'BGC0000080.gbk', 'BGC0000066.gbk', 'BGC0001276.gbk', 'BGC0000164.gbk', 'BGC0001199.gbk', 'BGC0001677.gbk', 'BGC0001537.gbk']\n"
     ]
    }
   ],
   "source": [
    "# across[4] = 'EWM63004.1.region001.gbk'\n",
    "# across[5]= 'SBU93598.1.region001.gbk'\n",
    "# across[7] = 'WP_104899371.1.region001.gbk'\n",
    "# across[8] = 'WP_106731933.1.region001.gbk' #= 'WP_047890614.1.region001.gbk'\n",
    "# across[5] = 'WP_093675912.1.region001.gbk'\n",
    "# # across[28] = 'WP_019032754.1.region001.gbk'\n",
    "# across[14] = 'WP_050432983.1.region001.gbk'\n",
    "# across[26] = 'WP_051610873.1.region001.gbk'\n",
    "# across[27] = 'WP_047890614.1.region001.gbk'\n",
    "\n",
    "# print(across)\n"
   ]
  },
  {
   "cell_type": "code",
   "execution_count": 12,
   "metadata": {},
   "outputs": [
    {
     "name": "stdout",
     "output_type": "stream",
     "text": [
      "across dubs 16\n"
     ]
    }
   ],
   "source": [
    "# print('GB intern dubs:', GB_intern_dub)\n",
    "# print('RS intern dubs:', RS_intern_dub)\n",
    "# print('MIBIG intern dubs', MIBIG_intern_dubs)\n",
    "print('across dubs', len(across))"
   ]
  },
  {
   "cell_type": "markdown",
   "metadata": {},
   "source": [
    "# Move files"
   ]
  },
  {
   "cell_type": "code",
   "execution_count": 39,
   "metadata": {},
   "outputs": [],
   "source": [
    "import shutil\n",
    "duplicates=across\n",
    "All_no_dub=[]\n",
    "o_path=r\"C:\\Users\\ASUS\\Desktop\\ny_bigscape_in\\All\"\n",
    "t_path=r'C:\\Users\\ASUS\\Desktop\\ny_bigscape_in\\All_no_dub'\n",
    "for file in os.listdir(o_path):\n",
    "    if file not in duplicates:\n",
    "        if file not in os.listdir(t_path):\n",
    "            original =o_path+'\\{}'.format(file)\n",
    "            target =t_path+'\\{}'.format(file)\n",
    "            shutil.copyfile(original, target)\n",
    "            All_no_dub.append(file)"
   ]
  },
  {
   "cell_type": "markdown",
   "metadata": {},
   "source": [
    "# Some testing"
   ]
  },
  {
   "cell_type": "code",
   "execution_count": 1,
   "metadata": {},
   "outputs": [],
   "source": [
    "from Bio import Align \n",
    "import pandas as pd"
   ]
  },
  {
   "cell_type": "code",
   "execution_count": 15,
   "metadata": {},
   "outputs": [],
   "source": [
    "df=pd.read_csv(\"old_data_w_dubs_data_from_ALL_DH_blastp_AND_mibig_dub=all_DH_mibig_2_0 - test BGC dubs.txt\", sep='\\t')"
   ]
  },
  {
   "cell_type": "code",
   "execution_count": 16,
   "metadata": {},
   "outputs": [],
   "source": [
    "result=get_alignment_scores(df)"
   ]
  },
  {
   "cell_type": "code",
   "execution_count": 17,
   "metadata": {},
   "outputs": [
    {
     "name": "stdout",
     "output_type": "stream",
     "text": [
      "[[['BGC0001328'], ['EWM63004.1.region001']], [['BGC0001328'], ['WP_051610873.1.region001']], [['BGC0001328'], ['WP_140946099.1.region001']], [['BGC0001328X'], ['EWM63004.1.region001X']], [['BGC0001328X'], ['RQX47637.1.region001']], [['BGC0001328X'], ['WP_051610873.1.region001X']], [['BGC0001328X'], ['WP_064445511.1.region001X']], [['BGC0001328X'], ['WP_069088349.1.region001X']], [['BGC0001328X'], ['WP_124778977.1.region001X']], [['BGC0001328X'], ['WP_140946099.1.region001X']], [['BGC0001330'], ['WP_047890614.1.region001']], [['BGC0001331'], ['WP_019032754.1.region001']], [['BGC0001332'], ['WP_106731933.1.region001X']], [['BGC0001332X'], ['WP_106731933.1.region001']], [['AGM05849.1.region001'], ['WP_043848779.1.region001']], [['AGM05849.1.region001'], ['WP_072030953.1.region002']], [['AGM05849.1.region001'], ['WP_125690918.1.region001']], [['AKF07185.1.region001'], ['WP_083458533.1.region001']], [['AKF80291.1.region001'], ['WP_074958386.1.region001']], [['AKF80291.1.region001X'], ['WP_074958386.1.region001X']], [['AKH87109.1.region001'], ['WP_078898505.1.region001']], [['AKH87109.1.region001'], ['WP_145781355.1.region001']], [['AKH87109.1.region001X'], ['WP_078898505.1.region001X']], [['AKH87109.1.region001X'], ['WP_145781355.1.region001X']], [['AKH87109.1.region001XX'], ['WP_078898505.1.region001XX']], [['AKH87109.1.region001XX'], ['WP_145781355.1.region001XX']], [['APY90477.1.region001'], ['WP_103557568.1.region001']], [['APY90477.1.region001X'], ['WP_062771000.1.region001X']], [['APY90477.1.region001X'], ['WP_103557568.1.region001X']], [['APY90477.1.region001X'], ['WP_136242851.1.region001X']], [['BAY84413.1.region001'], ['WP_096657261.1.region001']], [['BAY84413.1.region001'], ['WP_096657262.1.region001']], [['BAY84413.1.region001'], ['WP_096657263.1.region001']], [['BAY84413.1.region001X'], ['WP_096657261.1.region001X']], [['BAY84413.1.region001X'], ['WP_096657262.1.region001X']], [['BAY84413.1.region001X'], ['WP_096657263.1.region001X']], [['BAY84413.1.region001XX'], ['WP_096657261.1.region001XX']], [['BAY84413.1.region001XX'], ['WP_096657262.1.region001XX']], [['BAY84413.1.region001XX'], ['WP_096657263.1.region001XX']], [['CCK25062.1.region001'], ['WP_106435855.1.region001']], [['CCK25062.1.region001X'], ['WP_106435855.1.region001X']], [['CDZ24035.1.region001'], ['PZM89247.1.region001']], [['CDZ24035.1.region001'], ['WP_045085970.1.region001']], [['EEF60271.1.region001'], ['WP_160164589.1.region001']], [['EEP75042.1.region002'], ['WP_132396141.1.region001']], [['EJL39661.1.region001'], ['WP_025848602.1.region001X']], [['EJL39661.1.region001'], ['WP_025848621.1.region001X']], [['EMS73654.1.region001'], ['WP_083908909.1.region001']], [['EMS73654.1.region001X'], ['WP_083908909.1.region001X']], [['EMS73654.1.region001XX'], ['WP_083908909.1.region001XX']], [['EWM63004.1.region001'], ['WP_051610873.1.region001']], [['EWM63004.1.region001'], ['WP_064445511.1.region001']], [['EWM63004.1.region001'], ['WP_069088349.1.region001']], [['EWM63004.1.region001'], ['WP_113973036.1.region001']], [['EWM63004.1.region001'], ['WP_124778977.1.region001']], [['EWM63004.1.region001'], ['WP_140946099.1.region001']], [['EWM63004.1.region001X'], ['RQX47637.1.region001']], [['EWM63004.1.region001X'], ['WP_051610873.1.region001X']], [['EWM63004.1.region001X'], ['WP_064445511.1.region001X']], [['EWM63004.1.region001X'], ['WP_069088349.1.region001X']], [['EWM63004.1.region001X'], ['WP_104112270.1.region001X']], [['EWM63004.1.region001X'], ['WP_113973036.1.region001X']], [['EWM63004.1.region001X'], ['WP_124778977.1.region001X']], [['EWM63004.1.region001X'], ['WP_140946099.1.region001X']], [['GAU68944.1.region001'], ['WP_107288389.1.region001']], [['GAU68944.1.region001X'], ['WP_107288389.1.region001X']], [['HAI15717.1.region001'], ['HBU36180.1.region001']], [['HBZ81136.1.region001'], ['HBZ81149.1.region001']], [['HBZ81136.1.region001'], ['WP_122966462.1.region001XXXXX']], [['HBZ81136.1.region001X'], ['HBZ81149.1.region001X']], [['HBZ81136.1.region001X'], ['WP_122966462.1.region001XXXX']], [['HBZ81136.1.region001XX'], ['HBZ81149.1.region001XX']], [['HBZ81136.1.region001XX'], ['WP_122966462.1.region001XXX']], [['HBZ81136.1.region001XXX'], ['HBZ81149.1.region001XXX']], [['HBZ81136.1.region001XXX'], ['WP_122966462.1.region001XX']], [['HBZ81136.1.region001XXXX'], ['HBZ81149.1.region001XXXX']], [['HBZ81136.1.region001XXXXX'], ['HBZ81149.1.region001XXXXX']], [['HBZ81149.1.region001'], ['WP_122966462.1.region001XXXXX']], [['HBZ81149.1.region001X'], ['WP_122966462.1.region001XXXX']], [['HBZ81149.1.region001XX'], ['WP_122966462.1.region001XXX']], [['HBZ81149.1.region001XXX'], ['WP_122966462.1.region001XX']], [['HEW98228.1.region001'], ['RKZ46227.1.region001']], [['HEW98228.1.region001'], ['RKZ85389.1.region001']], [['KDQ65957.1.region001'], ['SBU93598.1.region001']], [['KDQ65957.1.region001'], ['SCD35021.1.region001']], [['KDQ65957.1.region001'], ['SCE20524.1.region001X']], [['KDQ65957.1.region001'], ['SCE23245.1.region001X']], [['KDQ65957.1.region001'], ['WP_028443134.1.region001X']], [['KDQ65957.1.region001'], ['WP_093526515.1.region001']], [['KDQ65957.1.region001'], ['WP_093675912.1.region001']], [['KDQ65957.1.region001'], ['WP_093822013.1.region001X']], [['KDQ65957.1.region001'], ['WP_107053211.1.region001']], [['KDQ65957.1.region001X'], ['SBU93598.1.region001X']], [['KDQ65957.1.region001X'], ['SCD35021.1.region001X']], [['KDQ65957.1.region001X'], ['SCE20524.1.region001']], [['KDQ65957.1.region001X'], ['SCE23245.1.region001']], [['KDQ65957.1.region001X'], ['WP_028443134.1.region001']], [['KDQ65957.1.region001X'], ['WP_093526515.1.region001X']], [['KDQ65957.1.region001X'], ['WP_093675912.1.region001X']], [['KDQ65957.1.region001X'], ['WP_093822013.1.region001']], [['KDQ65957.1.region001X'], ['WP_107053211.1.region001X']], [['KJS59292.1.region001'], ['WP_045701838.1.region001']], [['KJS59292.1.region001X'], ['WP_045701838.1.region001X']], [['KMS56385.1.region001'], ['WP_059151236.1.region001']], [['KOV38179.1.region001'], ['WP_030395406.1.region001']], [['KOV38179.1.region001'], ['WP_043471630.1.region001XXX']], [['KOV38179.1.region001'], ['WP_053642871.1.region001']], [['KOV38179.1.region001X'], ['WP_053642871.1.region001X']], [['KQC36075.1.region001'], ['WP_052681085.1.region001']], [['KQC36075.1.region001'], ['WP_055409222.1.region001']], [['KQC36075.1.region001X'], ['WP_052681085.1.region001X']], [['KQC36075.1.region001X'], ['WP_055409222.1.region001X']], [['OKH95165.1.region003'], ['WP_079184458.1.region003']], [['OZV83662.1.region001'], ['TWH12031.1.region001']], [['OZV83662.1.region001'], ['WP_088985967.1.region001']], [['OZV83662.1.region001'], ['WP_145833119.1.region001']], [['PSK63183.1.region001'], ['WP_091309243.1.region001']], [['PSK63183.1.region001'], ['WP_146167753.1.region001']], [['PSK63183.1.region001'], ['WP_148431892.1.region001']], [['PZM89247.1.region001'], ['WP_045085970.1.region001']], [['RCJ36599.1.region002'], ['RCJ36614.1.region001']], [['RGC69159.1.region001'], ['WP_117667817.1.region001']], [['RKZ46227.1.region001'], ['RKZ85389.1.region001']], [['RKZ50363.1.region001'], ['RKZ84619.1.region001']], [['RQX47637.1.region001'], ['WP_051610873.1.region001X']], [['RQX47637.1.region001'], ['WP_064445511.1.region001X']], [['RQX47637.1.region001'], ['WP_069088349.1.region001X']], [['RQX47637.1.region001'], ['WP_104112270.1.region001X']], [['RQX47637.1.region001'], ['WP_113973036.1.region001X']], [['RQX47637.1.region001'], ['WP_124778977.1.region001X']], [['RQX47637.1.region001'], ['WP_140946099.1.region001X']], [['SBU93598.1.region001'], ['SCD35021.1.region001']], [['SBU93598.1.region001'], ['SCE20524.1.region001X']], [['SBU93598.1.region001'], ['SCE23245.1.region001X']], [['SBU93598.1.region001'], ['WP_028443134.1.region001X']], [['SBU93598.1.region001'], ['WP_093526515.1.region001']], [['SBU93598.1.region001'], ['WP_093675912.1.region001']], [['SBU93598.1.region001'], ['WP_093822013.1.region001X']], [['SBU93598.1.region001'], ['WP_107053211.1.region001']], [['SBU93598.1.region001X'], ['SCD35021.1.region001X']], [['SBU93598.1.region001X'], ['SCE20524.1.region001']], [['SBU93598.1.region001X'], ['SCE23245.1.region001']], [['SBU93598.1.region001X'], ['WP_028443134.1.region001']], [['SBU93598.1.region001X'], ['WP_093526515.1.region001X']], [['SBU93598.1.region001X'], ['WP_093675912.1.region001X']], [['SBU93598.1.region001X'], ['WP_093822013.1.region001']], [['SBU93598.1.region001X'], ['WP_107053211.1.region001X']], [['SCD35021.1.region001'], ['SCE20524.1.region001X']], [['SCD35021.1.region001'], ['SCE23245.1.region001X']], [['SCD35021.1.region001'], ['WP_028443134.1.region001X']], [['SCD35021.1.region001'], ['WP_093526515.1.region001']], [['SCD35021.1.region001'], ['WP_093675912.1.region001']], [['SCD35021.1.region001'], ['WP_093822013.1.region001X']], [['SCD35021.1.region001'], ['WP_107053211.1.region001']], [['SCD35021.1.region001X'], ['SCE20524.1.region001']], [['SCD35021.1.region001X'], ['SCE23245.1.region001']], [['SCD35021.1.region001X'], ['WP_028443134.1.region001']], [['SCD35021.1.region001X'], ['WP_093526515.1.region001X']], [['SCD35021.1.region001X'], ['WP_093675912.1.region001X']], [['SCD35021.1.region001X'], ['WP_093822013.1.region001']], [['SCD35021.1.region001X'], ['WP_107053211.1.region001X']], [['SCE20524.1.region001'], ['SCE23245.1.region001']], [['SCE20524.1.region001'], ['WP_028443134.1.region001']], [['SCE20524.1.region001'], ['WP_093526515.1.region001X']], [['SCE20524.1.region001'], ['WP_093675912.1.region001X']], [['SCE20524.1.region001'], ['WP_093822013.1.region001']], [['SCE20524.1.region001'], ['WP_107053211.1.region001X']], [['SCE20524.1.region001X'], ['SCE23245.1.region001X']], [['SCE20524.1.region001X'], ['WP_028443134.1.region001X']], [['SCE20524.1.region001X'], ['WP_093526515.1.region001']], [['SCE20524.1.region001X'], ['WP_093675912.1.region001']], [['SCE20524.1.region001X'], ['WP_093822013.1.region001X']], [['SCE20524.1.region001X'], ['WP_107053211.1.region001']], [['SCE23245.1.region001'], ['WP_028443134.1.region001']], [['SCE23245.1.region001'], ['WP_093526515.1.region001X']], [['SCE23245.1.region001'], ['WP_093675912.1.region001X']], [['SCE23245.1.region001'], ['WP_093822013.1.region001']], [['SCE23245.1.region001'], ['WP_107053211.1.region001X']], [['SCE23245.1.region001X'], ['WP_028443134.1.region001X']], [['SCE23245.1.region001X'], ['WP_093526515.1.region001']], [['SCE23245.1.region001X'], ['WP_093675912.1.region001']], [['SCE23245.1.region001X'], ['WP_093822013.1.region001X']], [['SCE23245.1.region001X'], ['WP_107053211.1.region001']], [['SCE97371.1.region001'], ['WP_091281598.1.region001']], [['SCF27481.1.region001'], ['WP_088964688.1.region001']], [['SCG49790.1.region001'], ['WP_091295004.1.region001']], [['SFO58424.1.region001'], ['SPT57320.1.region001']], [['SFO58424.1.region001X'], ['SPT57320.1.region001X']], [['SFO58424.1.region001XX'], ['SPT57320.1.region001XX']], [['TBR56966.1.region001'], ['WP_017308762.1.region001']], [['TBR56966.1.region001'], ['WP_131121152.1.region001']], [['TBR56966.1.region001X'], ['WP_017308762.1.region001X']], [['TBR56966.1.region001X'], ['WP_131121152.1.region001X']], [['TBR56966.1.region001XX'], ['WP_131121152.1.region001XX']], [['TBR56966.1.region001XXX'], ['WP_131121152.1.region001XXX']], [['TBR56966.1.region001XXXX'], ['WP_131121152.1.region001XXXX']], [['TWG28505.1.region001'], ['WP_154938939.1.region001']], [['TWH12031.1.region001'], ['WP_088985967.1.region001']], [['TWH12031.1.region001'], ['WP_145833119.1.region001']], [['WP_003058751.1.region001'], ['WP_033260583.1.region001']], [['WP_004625007.1.region001'], ['WP_027630727.1.region001']], [['WP_005151648.1.region002'], ['WP_007030384.1.region001']], [['WP_010355257.1.region001'], ['WP_050373244.1.region001']], [['WP_010355257.1.region001'], ['WP_059042897.1.region001']], [['WP_010355257.1.region001'], ['WP_075824208.1.region001']], [['WP_013285948.1.region001'], ['WP_013477062.1.region001']], [['WP_013285948.1.region001'], ['WP_030269092.1.region001']], [['WP_013285948.1.region001'], ['WP_047891973.1.region001']], [['WP_013285948.1.region001'], ['WP_071095326.1.region001']], [['WP_013285948.1.region001'], ['WP_091328405.1.region001']], [['WP_013285948.1.region001'], ['WP_114920235.1.region001']], [['WP_013285948.1.region001'], ['WP_135239825.1.region001']], [['WP_013285948.1.region001'], ['WP_145823640.1.region001']], [['WP_013285948.1.region001'], ['WP_151013113.1.region001']], [['WP_013477062.1.region001'], ['WP_030269092.1.region001']], [['WP_013477062.1.region001'], ['WP_047891973.1.region001']], [['WP_013477062.1.region001'], ['WP_071095326.1.region001']], [['WP_013477062.1.region001'], ['WP_073829799.1.region001']], [['WP_013477062.1.region001'], ['WP_091328405.1.region001']], [['WP_013477062.1.region001'], ['WP_114920235.1.region001']], [['WP_013477062.1.region001'], ['WP_121683566.1.region001']], [['WP_013477062.1.region001'], ['WP_135239825.1.region001']], [['WP_013477062.1.region001'], ['WP_145752450.1.region001']], [['WP_013477062.1.region001'], ['WP_145823640.1.region001']], [['WP_013477062.1.region001'], ['WP_151013113.1.region001']], [['WP_015155648.1.region001'], ['WP_015155652.1.region001']], [['WP_015155648.1.region001'], ['WP_106216691.1.region001']], [['WP_015155652.1.region001'], ['WP_106216691.1.region001']], [['WP_017308762.1.region001'], ['WP_131121152.1.region001']], [['WP_017308762.1.region001X'], ['WP_131121152.1.region001X']], [['WP_018221345.1.region001'], ['WP_027648442.1.region001']], [['WP_018221345.1.region001'], ['WP_027657832.1.region001']], [['WP_018221345.1.region001'], ['WP_028185298.1.region001']], [['WP_018221345.1.region001'], ['WP_029122349.1.region001X']], [['WP_018221345.1.region001'], ['WP_029130478.1.region001']], [['WP_018221345.1.region001X'], ['WP_018812186.1.region001X']], [['WP_018221345.1.region001X'], ['WP_027648442.1.region001X']], [['WP_018221345.1.region001X'], ['WP_027657832.1.region001X']], [['WP_018221345.1.region001X'], ['WP_028185298.1.region001X']], [['WP_018221345.1.region001X'], ['WP_029122349.1.region001']], [['WP_018221345.1.region001X'], ['WP_029130478.1.region001X']], [['WP_018812186.1.region001'], ['WP_027648442.1.region001']], [['WP_018812186.1.region001'], ['WP_027657832.1.region001']], [['WP_018812186.1.region001'], ['WP_028185298.1.region001']], [['WP_018812186.1.region001'], ['WP_029122349.1.region001X']], [['WP_018812186.1.region001'], ['WP_029130478.1.region001']], [['WP_018812186.1.region001X'], ['WP_027648442.1.region001X']], [['WP_018812186.1.region001X'], ['WP_027657832.1.region001X']], [['WP_018812186.1.region001X'], ['WP_028185298.1.region001X']], [['WP_018812186.1.region001X'], ['WP_029122349.1.region001']], [['WP_018812186.1.region001X'], ['WP_029130478.1.region001X']], [['WP_019560911.1.region001'], ['WP_062194561.1.region001']], [['WP_019912658.1.region001'], ['WP_019912672.1.region001']], [['WP_019912658.1.region001X'], ['WP_019912672.1.region001X']], [['WP_019912658.1.region001XX'], ['WP_019912672.1.region001XX']], [['WP_019912658.1.region001XXX'], ['WP_019912672.1.region001XXX']], [['WP_019912658.1.region001XXXX'], ['WP_019912672.1.region001XXXX']], [['WP_019912658.1.region001XXXXX'], ['WP_019912672.1.region001XXXXX']], [['WP_019912658.1.region001XXXXXX'], ['WP_019912672.1.region001XXXXXX']], [['WP_020431303.1.region001XX'], ['WP_060863316.1.region001XX']], [['WP_020431303.1.region001XX'], ['WP_060863326.1.region001XX']], [['WP_020542771.1.region001X'], ['WP_091089112.1.region001']], [['WP_020930534.1.region002'], ['WP_051661955.1.region002']], [['WP_020930534.1.region002'], ['WP_052029666.1.region001']], [['WP_020930534.1.region002'], ['WP_053164456.1.region002']], [['WP_025705087.1.region001X'], ['WP_025707137.1.region001']], [['WP_025705087.1.region001X'], ['WP_154970297.1.region001XXXX']], [['WP_025705087.1.region001X'], ['WP_154970308.1.region001XXXX']], [['WP_025705087.1.region001XXX'], ['WP_154970297.1.region001XX']], [['WP_025705087.1.region001XXX'], ['WP_154970308.1.region001XX']], [['WP_025707137.1.region001'], ['WP_154970297.1.region001XXXX']], [['WP_025707137.1.region001'], ['WP_154970308.1.region001XXXX']], [['WP_025848602.1.region001'], ['WP_025848621.1.region001']], [['WP_025848602.1.region001X'], ['WP_025848621.1.region001X']], [['WP_025848602.1.region001XX'], ['WP_025848621.1.region001XX']], [['WP_025848602.1.region001XXX'], ['WP_025848621.1.region001XXX']], [['WP_027648442.1.region001'], ['WP_027657832.1.region001']], [['WP_027648442.1.region001'], ['WP_028185298.1.region001']], [['WP_027648442.1.region001'], ['WP_029122349.1.region001X']], [['WP_027648442.1.region001'], ['WP_029130478.1.region001']], [['WP_027648442.1.region001X'], ['WP_027657832.1.region001X']], [['WP_027648442.1.region001X'], ['WP_028185298.1.region001X']], [['WP_027648442.1.region001X'], ['WP_029122349.1.region001']], [['WP_027648442.1.region001X'], ['WP_029130478.1.region001X']], [['WP_027657832.1.region001'], ['WP_028185298.1.region001']], [['WP_027657832.1.region001'], ['WP_029122349.1.region001X']], [['WP_027657832.1.region001'], ['WP_029130478.1.region001']], [['WP_027657832.1.region001X'], ['WP_028185298.1.region001X']], [['WP_027657832.1.region001X'], ['WP_029122349.1.region001']], [['WP_027657832.1.region001X'], ['WP_029130478.1.region001X']], [['WP_028185298.1.region001'], ['WP_029122349.1.region001X']], [['WP_028185298.1.region001'], ['WP_029130478.1.region001']], [['WP_028185298.1.region001X'], ['WP_029122349.1.region001']], [['WP_028185298.1.region001X'], ['WP_029130478.1.region001X']], [['WP_028443134.1.region001'], ['WP_093526515.1.region001X']], [['WP_028443134.1.region001'], ['WP_093675912.1.region001X']], [['WP_028443134.1.region001'], ['WP_093822013.1.region001']], [['WP_028443134.1.region001'], ['WP_107053211.1.region001X']], [['WP_028443134.1.region001X'], ['WP_093526515.1.region001']], [['WP_028443134.1.region001X'], ['WP_093675912.1.region001']], [['WP_028443134.1.region001X'], ['WP_093822013.1.region001X']], [['WP_028443134.1.region001X'], ['WP_107053211.1.region001']], [['WP_029122349.1.region001'], ['WP_029130478.1.region001X']], [['WP_029122349.1.region001X'], ['WP_029130478.1.region001']], [['WP_030269092.1.region001'], ['WP_047891973.1.region001']], [['WP_030269092.1.region001'], ['WP_071095326.1.region001']], [['WP_030269092.1.region001'], ['WP_091328405.1.region001']], [['WP_030269092.1.region001'], ['WP_114920235.1.region001']], [['WP_030269092.1.region001'], ['WP_135239825.1.region001']], [['WP_030269092.1.region001'], ['WP_145823640.1.region001']], [['WP_030269092.1.region001'], ['WP_151013113.1.region001']], [['WP_030395406.1.region001'], ['WP_043471630.1.region001XXX']], [['WP_030395406.1.region001'], ['WP_053642871.1.region001']], [['WP_030395406.1.region001X'], ['WP_043471630.1.region001XXXX']], [['WP_031168081.1.region001'], ['WP_086578789.1.region001']], [['WP_031168081.1.region001'], ['WP_093887895.1.region001']], [['WP_036552846.1.region001'], ['WP_094802417.1.region001']], [['WP_036552846.1.region001X'], ['WP_094802417.1.region001X']], [['WP_037305944.1.region002'], ['WP_044850591.1.region001']], [['WP_039837461.1.region001'], ['WP_039837473.1.region001']], [['WP_039837461.1.region001X'], ['WP_039837473.1.region001X']], [['WP_043471630.1.region001XXX'], ['WP_053642871.1.region001']], [['WP_043848779.1.region001'], ['WP_072030953.1.region002']], [['WP_043848779.1.region001'], ['WP_125690918.1.region001']], [['WP_043910498.1.region001XX'], ['WP_100586149.1.region001XX']], [['WP_043910498.1.region002'], ['WP_100586149.1.region002']], [['WP_047067162.1.region001'], ['WP_047067175.1.region001']], [['WP_047067162.1.region001'], ['WP_064199364.1.region001']], [['WP_047067162.1.region001'], ['WP_064199376.1.region001']], [['WP_047067162.1.region001'], ['WP_088907636.1.region002']], [['WP_047067162.1.region001'], ['WP_088907651.1.region001']], [['WP_047067162.1.region001X'], ['WP_047067175.1.region001X']], [['WP_047067162.1.region001XX'], ['WP_047067175.1.region001XX']], [['WP_047067162.1.region001XXX'], ['WP_047067175.1.region001XXX']], [['WP_047067162.1.region001XXXX'], ['WP_047067175.1.region001XXXX']], [['WP_047067162.1.region001XXXX'], ['WP_064199364.1.region001XXXX']], [['WP_047067162.1.region001XXXX'], ['WP_064199376.1.region001XXXX']], [['WP_047067162.1.region001XXXXX'], ['WP_047067175.1.region001XXXXX']], [['WP_047067162.1.region001XXXXX'], ['WP_064199364.1.region001XXXXX']], [['WP_047067162.1.region001XXXXX'], ['WP_064199376.1.region001XXXXX']], [['WP_047067162.1.region001XXXXX'], ['WP_088907636.1.region002XXXXX']], [['WP_047067162.1.region001XXXXX'], ['WP_088907651.1.region001XXXXX']], [['WP_047067162.1.region001XXXXXX'], ['WP_047067175.1.region001XXXXXX']], [['WP_047067162.1.region001XXXXXX'], ['WP_056487459.1.region001XXXXXX']], [['WP_047067162.1.region001XXXXXX'], ['WP_056487493.1.region001XXXXXX']], [['WP_047067162.1.region001XXXXXX'], ['WP_064199364.1.region001XXXXXX']], [['WP_047067162.1.region001XXXXXX'], ['WP_064199376.1.region001XXXXXX']], [['WP_047067175.1.region001'], ['WP_064199364.1.region001']], [['WP_047067175.1.region001'], ['WP_064199376.1.region001']], [['WP_047067175.1.region001'], ['WP_088907636.1.region002']], [['WP_047067175.1.region001'], ['WP_088907651.1.region001']], [['WP_047067175.1.region001XXXX'], ['WP_064199364.1.region001XXXX']], [['WP_047067175.1.region001XXXX'], ['WP_064199376.1.region001XXXX']], [['WP_047067175.1.region001XXXXX'], ['WP_064199364.1.region001XXXXX']], [['WP_047067175.1.region001XXXXX'], ['WP_064199376.1.region001XXXXX']], [['WP_047067175.1.region001XXXXX'], ['WP_088907636.1.region002XXXXX']], [['WP_047067175.1.region001XXXXX'], ['WP_088907651.1.region001XXXXX']], [['WP_047067175.1.region001XXXXXX'], ['WP_056487459.1.region001XXXXXX']], [['WP_047067175.1.region001XXXXXX'], ['WP_056487493.1.region001XXXXXX']], [['WP_047067175.1.region001XXXXXX'], ['WP_064199364.1.region001XXXXXX']], [['WP_047067175.1.region001XXXXXX'], ['WP_064199376.1.region001XXXXXX']], [['WP_047891973.1.region001'], ['WP_071095326.1.region001']], [['WP_047891973.1.region001'], ['WP_091328405.1.region001']], [['WP_047891973.1.region001'], ['WP_114920235.1.region001']], [['WP_047891973.1.region001'], ['WP_135239825.1.region001']], [['WP_047891973.1.region001'], ['WP_145752450.1.region001']], [['WP_047891973.1.region001'], ['WP_145823640.1.region001']], [['WP_047891973.1.region001'], ['WP_151013113.1.region001']], [['WP_048033099.1.region001'], ['WP_048033110.1.region001']], [['WP_048033099.1.region001X'], ['WP_048033110.1.region001X']], [['WP_048033099.1.region001XX'], ['WP_048033110.1.region001XX']], [['WP_048033099.1.region001XX'], ['WP_056487459.1.region001XX']], [['WP_048033099.1.region001XX'], ['WP_056487493.1.region001XX']], [['WP_048033099.1.region001XX'], ['WP_064199364.1.region001XX']], [['WP_048033099.1.region001XX'], ['WP_064199376.1.region001XX']], [['WP_048033099.1.region001XXX'], ['WP_048033110.1.region001XXX']], [['WP_048033099.1.region001XXXX'], ['WP_048033110.1.region001XXXX']], [['WP_048033099.1.region001XXXX'], ['WP_056487459.1.region001XXXX']], [['WP_048033099.1.region001XXXX'], ['WP_056487493.1.region001XXXX']], [['WP_048033099.1.region001XXXXX'], ['WP_048033110.1.region001XXXXX']], [['WP_048033099.1.region001XXXXX'], ['WP_056487459.1.region001XXXXX']], [['WP_048033099.1.region001XXXXX'], ['WP_056487493.1.region001XXXXX']], [['WP_048033099.1.region001XXXXX'], ['WP_088907636.1.region002XXXXX']], [['WP_048033099.1.region001XXXXX'], ['WP_088907651.1.region001XXXXX']], [['WP_048033099.1.region001XXXXXX'], ['WP_048033110.1.region001XXXXXX']], [['WP_048033110.1.region001XX'], ['WP_056487459.1.region001XX']], [['WP_048033110.1.region001XX'], ['WP_056487493.1.region001XX']], [['WP_048033110.1.region001XX'], ['WP_064199364.1.region001XX']], [['WP_048033110.1.region001XX'], ['WP_064199376.1.region001XX']], [['WP_048033110.1.region001XXXX'], ['WP_056487459.1.region001XXXX']], [['WP_048033110.1.region001XXXX'], ['WP_056487493.1.region001XXXX']], [['WP_048033110.1.region001XXXXX'], ['WP_056487459.1.region001XXXXX']], [['WP_048033110.1.region001XXXXX'], ['WP_056487493.1.region001XXXXX']], [['WP_048033110.1.region001XXXXX'], ['WP_088907636.1.region002XXXXX']], [['WP_048033110.1.region001XXXXX'], ['WP_088907651.1.region001XXXXX']], [['WP_050367074.1.region002'], ['WP_051824393.1.region001']], [['WP_050373244.1.region001'], ['WP_059042897.1.region001']], [['WP_050373244.1.region001'], ['WP_075824208.1.region001']], [['WP_051610873.1.region001'], ['WP_064445511.1.region001']], [['WP_051610873.1.region001'], ['WP_069088349.1.region001']], [['WP_051610873.1.region001'], ['WP_113973036.1.region001']], [['WP_051610873.1.region001'], ['WP_124778977.1.region001']], [['WP_051610873.1.region001'], ['WP_140946099.1.region001']], [['WP_051610873.1.region001X'], ['WP_064445511.1.region001X']], [['WP_051610873.1.region001X'], ['WP_069088349.1.region001X']], [['WP_051610873.1.region001X'], ['WP_104112270.1.region001X']], [['WP_051610873.1.region001X'], ['WP_113973036.1.region001X']], [['WP_051610873.1.region001X'], ['WP_124778977.1.region001X']], [['WP_051610873.1.region001X'], ['WP_140946099.1.region001X']], [['WP_051661955.1.region002'], ['WP_052029666.1.region001']], [['WP_051661955.1.region002'], ['WP_053164456.1.region002']], [['WP_052029666.1.region001'], ['WP_053164456.1.region002']], [['WP_052681085.1.region001'], ['WP_055409222.1.region001']], [['WP_052681085.1.region001X'], ['WP_055409222.1.region001X']], [['WP_056487459.1.region001'], ['WP_056487493.1.region001']], [['WP_056487459.1.region001X'], ['WP_056487493.1.region001X']], [['WP_056487459.1.region001X'], ['WP_064199364.1.region001X']], [['WP_056487459.1.region001X'], ['WP_064199376.1.region001X']], [['WP_056487459.1.region001XX'], ['WP_056487493.1.region001XX']], [['WP_056487459.1.region001XX'], ['WP_064199364.1.region001XX']], [['WP_056487459.1.region001XX'], ['WP_064199376.1.region001XX']], [['WP_056487459.1.region001XXX'], ['WP_056487493.1.region001XXX']], [['WP_056487459.1.region001XXXX'], ['WP_056487493.1.region001XXXX']], [['WP_056487459.1.region001XXXXX'], ['WP_056487493.1.region001XXXXX']], [['WP_056487459.1.region001XXXXX'], ['WP_088907636.1.region002XXXXX']], [['WP_056487459.1.region001XXXXX'], ['WP_088907651.1.region001XXXXX']], [['WP_056487459.1.region001XXXXXX'], ['WP_056487493.1.region001XXXXXX']], [['WP_056487459.1.region001XXXXXX'], ['WP_064199364.1.region001XXXXXX']], [['WP_056487459.1.region001XXXXXX'], ['WP_064199376.1.region001XXXXXX']], [['WP_056487493.1.region001X'], ['WP_064199364.1.region001X']], [['WP_056487493.1.region001X'], ['WP_064199376.1.region001X']], [['WP_056487493.1.region001XX'], ['WP_064199364.1.region001XX']], [['WP_056487493.1.region001XX'], ['WP_064199376.1.region001XX']], [['WP_056487493.1.region001XXXXX'], ['WP_088907636.1.region002XXXXX']], [['WP_056487493.1.region001XXXXX'], ['WP_088907651.1.region001XXXXX']], [['WP_056487493.1.region001XXXXXX'], ['WP_064199364.1.region001XXXXXX']], [['WP_056487493.1.region001XXXXXX'], ['WP_064199376.1.region001XXXXXX']], [['WP_059042897.1.region001'], ['WP_075824208.1.region001']], [['WP_060863316.1.region001'], ['WP_060863326.1.region001']], [['WP_060863316.1.region001X'], ['WP_060863326.1.region001X']], [['WP_060863316.1.region001XX'], ['WP_060863326.1.region001XX']], [['WP_060863316.1.region001XXX'], ['WP_060863326.1.region001XXX']], [['WP_060863316.1.region001XXXX'], ['WP_060863326.1.region001XXXX']], [['WP_060863316.1.region001XXXXX'], ['WP_060863326.1.region001XXXXX']], [['WP_062525444.1.region001'], ['WP_062525464.1.region001']], [['WP_062525444.1.region001'], ['WP_082722753.1.region001']], [['WP_062525444.1.region001X'], ['WP_062525464.1.region001X']], [['WP_062525444.1.region001X'], ['WP_082722753.1.region001X']], [['WP_062525444.1.region001XX'], ['WP_062525464.1.region001XX']], [['WP_062525444.1.region001XX'], ['WP_082722753.1.region001XX']], [['WP_062525444.1.region001XXX'], ['WP_062525464.1.region001XXX']], [['WP_062525444.1.region001XXX'], ['WP_082722753.1.region001XXX']], [['WP_062525444.1.region001XXXX'], ['WP_062525464.1.region001XXXX']], [['WP_062525444.1.region001XXXX'], ['WP_082722753.1.region001XXXX']], [['WP_062525444.1.region001XXXXX'], ['WP_062525464.1.region001XXXXX']], [['WP_062525444.1.region001XXXXX'], ['WP_082722753.1.region001XXXXX']], [['WP_062525444.1.region001XXXXXX'], ['WP_062525464.1.region001XXXXXX']], [['WP_062525464.1.region001'], ['WP_082722753.1.region001']], [['WP_062525464.1.region001X'], ['WP_082722753.1.region001X']], [['WP_062525464.1.region001XX'], ['WP_082722753.1.region001XX']], [['WP_062525464.1.region001XXX'], ['WP_082722753.1.region001XXX']], [['WP_062525464.1.region001XXXX'], ['WP_082722753.1.region001XXXX']], [['WP_062525464.1.region001XXXXX'], ['WP_082722753.1.region001XXXXX']], [['WP_062771000.1.region001X'], ['WP_103557568.1.region001X']], [['WP_062771000.1.region001X'], ['WP_136242851.1.region001X']], [['WP_063231157.1.region001'], ['WP_063231170.1.region001']], [['WP_063231157.1.region001X'], ['WP_063231170.1.region001X']], [['WP_063231157.1.region001XX'], ['WP_063231170.1.region001XX']], [['WP_063231157.1.region001XXX'], ['WP_063231170.1.region001XXX']], [['WP_063231157.1.region001XXXX'], ['WP_063231170.1.region001XXXX']], [['WP_063231157.1.region001XXXXX'], ['WP_063231170.1.region001XXXXX']], [['WP_063231157.1.region001XXXXXX'], ['WP_063231170.1.region001XXXXXX']], [['WP_063273420.1.region001'], ['WP_072030953.1.region001X']], [['WP_063273420.1.region001X'], ['WP_072030953.1.region001XX']], [['WP_063273420.1.region002'], ['WP_072030953.1.region002']], [['WP_063273420.1.region002'], ['WP_125690918.1.region001']], [['WP_064199364.1.region001'], ['WP_064199376.1.region001']], [['WP_064199364.1.region001'], ['WP_088907636.1.region002']], [['WP_064199364.1.region001'], ['WP_088907651.1.region001']], [['WP_064199364.1.region001X'], ['WP_064199376.1.region001X']], [['WP_064199364.1.region001X'], ['WP_088907636.1.region002X']], [['WP_064199364.1.region001X'], ['WP_088907651.1.region001X']], [['WP_064199364.1.region001XX'], ['WP_064199376.1.region001XX']], [['WP_064199364.1.region001XXX'], ['WP_064199376.1.region001XXX']], [['WP_064199364.1.region001XXXX'], ['WP_064199376.1.region001XXXX']], [['WP_064199364.1.region001XXXXX'], ['WP_064199376.1.region001XXXXX']], [['WP_064199364.1.region001XXXXXX'], ['WP_064199376.1.region001XXXXXX']], [['WP_064199376.1.region001'], ['WP_088907636.1.region002']], [['WP_064199376.1.region001'], ['WP_088907651.1.region001']], [['WP_064199376.1.region001X'], ['WP_088907636.1.region002X']], [['WP_064199376.1.region001X'], ['WP_088907651.1.region001X']], [['WP_064445511.1.region001'], ['WP_069088349.1.region001']], [['WP_064445511.1.region001'], ['WP_113973036.1.region001']], [['WP_064445511.1.region001'], ['WP_124778977.1.region001']], [['WP_064445511.1.region001'], ['WP_140946099.1.region001']], [['WP_064445511.1.region001X'], ['WP_069088349.1.region001X']], [['WP_064445511.1.region001X'], ['WP_104112270.1.region001X']], [['WP_064445511.1.region001X'], ['WP_113973036.1.region001X']], [['WP_064445511.1.region001X'], ['WP_124778977.1.region001X']], [['WP_064445511.1.region001X'], ['WP_140946099.1.region001X']], [['WP_064446186.1.region001'], ['WP_069088197.1.region001']], [['WP_064446186.1.region001'], ['WP_073829799.1.region001']], [['WP_064446186.1.region001'], ['WP_104114544.1.region001']], [['WP_064446186.1.region001'], ['WP_113973830.1.region001']], [['WP_064446186.1.region001'], ['WP_116510513.1.region001']], [['WP_064446186.1.region001'], ['WP_140946037.1.region001']], [['WP_069088197.1.region001'], ['WP_073829799.1.region001']], [['WP_069088197.1.region001'], ['WP_104114544.1.region001']], [['WP_069088197.1.region001'], ['WP_113973830.1.region001']], [['WP_069088197.1.region001'], ['WP_116510513.1.region001']], [['WP_069088197.1.region001'], ['WP_140946037.1.region001']], [['WP_069088349.1.region001'], ['WP_113973036.1.region001']], [['WP_069088349.1.region001'], ['WP_124778977.1.region001']], [['WP_069088349.1.region001'], ['WP_140946099.1.region001']], [['WP_069088349.1.region001X'], ['WP_104112270.1.region001X']], [['WP_069088349.1.region001X'], ['WP_113973036.1.region001X']], [['WP_069088349.1.region001X'], ['WP_124778977.1.region001X']], [['WP_069088349.1.region001X'], ['WP_140946099.1.region001X']], [['WP_071095326.1.region001'], ['WP_073829799.1.region001']], [['WP_071095326.1.region001'], ['WP_091328405.1.region001']], [['WP_071095326.1.region001'], ['WP_114920235.1.region001']], [['WP_071095326.1.region001'], ['WP_121683566.1.region001']], [['WP_071095326.1.region001'], ['WP_135239825.1.region001']], [['WP_071095326.1.region001'], ['WP_145752450.1.region001']], [['WP_071095326.1.region001'], ['WP_145823640.1.region001']], [['WP_071095326.1.region001'], ['WP_151013113.1.region001']], [['WP_072030953.1.region002'], ['WP_125690918.1.region001']], [['WP_073829799.1.region001'], ['WP_104114544.1.region001']], [['WP_073829799.1.region001'], ['WP_116510513.1.region001']], [['WP_073829799.1.region001'], ['WP_121683566.1.region001']], [['WP_073829799.1.region001'], ['WP_135239825.1.region001']], [['WP_073829799.1.region001'], ['WP_145752450.1.region001']], [['WP_078898505.1.region001'], ['WP_145781355.1.region001']], [['WP_078898505.1.region001X'], ['WP_145781355.1.region001X']], [['WP_078898505.1.region001XX'], ['WP_145781355.1.region001XX']], [['WP_086578789.1.region001'], ['WP_093887895.1.region001']], [['WP_086857215.1.region001'], ['WP_125316201.1.region002']], [['WP_086857215.1.region001'], ['WP_160698423.1.region001']], [['WP_088646411.1.region001'], ['WP_145920409.1.region002']], [['WP_088907636.1.region002'], ['WP_088907651.1.region001']], [['WP_088907636.1.region002X'], ['WP_088907651.1.region001X']], [['WP_088907636.1.region002XX'], ['WP_088907651.1.region001XX']], [['WP_088907636.1.region002XXX'], ['WP_088907651.1.region001XXX']], [['WP_088907636.1.region002XXXX'], ['WP_088907651.1.region001XXXX']], [['WP_088907636.1.region002XXXXX'], ['WP_088907651.1.region001XXXXX']], [['WP_088907636.1.region002XXXXXX'], ['WP_088907651.1.region001XXXXXX']], [['WP_088985967.1.region001'], ['WP_145833119.1.region001']], [['WP_089002952.1.region001'], ['WP_101413178.1.region001']], [['WP_089125741.1.region001'], ['WP_089125742.1.region001']], [['WP_091239135.1.region001X'], ['WP_145920409.1.region001X']], [['WP_091309243.1.region001'], ['WP_146167753.1.region001']], [['WP_091328405.1.region001'], ['WP_114920235.1.region001']], [['WP_091328405.1.region001'], ['WP_135239825.1.region001']], [['WP_091328405.1.region001'], ['WP_145752450.1.region001']], [['WP_091328405.1.region001'], ['WP_145823640.1.region001']], [['WP_091328405.1.region001'], ['WP_151013113.1.region001']], [['WP_091427187.1.region001'], ['WP_145752450.1.region001']], [['WP_091427187.1.region001'], ['WP_151499038.1.region001']], [['WP_093526515.1.region001'], ['WP_093675912.1.region001']], [['WP_093526515.1.region001'], ['WP_093822013.1.region001X']], [['WP_093526515.1.region001'], ['WP_107053211.1.region001']], [['WP_093526515.1.region001X'], ['WP_093675912.1.region001X']], [['WP_093526515.1.region001X'], ['WP_093822013.1.region001']], [['WP_093526515.1.region001X'], ['WP_107053211.1.region001X']], [['WP_093675912.1.region001'], ['WP_093822013.1.region001X']], [['WP_093675912.1.region001'], ['WP_107053211.1.region001']], [['WP_093675912.1.region001X'], ['WP_093822013.1.region001']], [['WP_093675912.1.region001X'], ['WP_107053211.1.region001X']], [['WP_093822013.1.region001'], ['WP_107053211.1.region001X']], [['WP_093822013.1.region001X'], ['WP_107053211.1.region001']], [['WP_094329469.1.region001X'], ['WP_104899371.1.region001X']], [['WP_094345487.1.region001'], ['WP_143855623.1.region001']], [['WP_094795567.1.region001X'], ['WP_131121992.1.region001']], [['WP_096657261.1.region001'], ['WP_096657262.1.region001']], [['WP_096657261.1.region001'], ['WP_096657263.1.region001']], [['WP_096657261.1.region001X'], ['WP_096657262.1.region001X']], [['WP_096657261.1.region001X'], ['WP_096657263.1.region001X']], [['WP_096657261.1.region001XX'], ['WP_096657262.1.region001XX']], [['WP_096657261.1.region001XX'], ['WP_096657263.1.region001XX']], [['WP_096657262.1.region001'], ['WP_096657263.1.region001']], [['WP_096657262.1.region001X'], ['WP_096657263.1.region001X']], [['WP_096657262.1.region001XX'], ['WP_096657263.1.region001XX']], [['WP_100839922.1.region001X'], ['WP_111555263.1.region001X']], [['WP_102252157.1.region001'], ['WP_104576195.1.region001']], [['WP_103557568.1.region001X'], ['WP_136242851.1.region001X']], [['WP_104112270.1.region001X'], ['WP_113973036.1.region001X']], [['WP_104112270.1.region001X'], ['WP_124778977.1.region001X']], [['WP_104112270.1.region001X'], ['WP_140946099.1.region001X']], [['WP_104114544.1.region001'], ['WP_113973830.1.region001']], [['WP_104114544.1.region001'], ['WP_116510513.1.region001']], [['WP_104114544.1.region001'], ['WP_140946037.1.region001']], [['WP_106216169.1.region001'], ['WP_146139689.1.region001']], [['WP_106216169.1.region001X'], ['WP_146139689.1.region001X']], [['WP_110952043.1.region001X'], ['WP_131121992.1.region001']], [['WP_113129029.1.region001'], ['WP_113285235.1.region001']], [['WP_113973036.1.region001'], ['WP_124778977.1.region001']], [['WP_113973036.1.region001'], ['WP_140946099.1.region001']], [['WP_113973036.1.region001X'], ['WP_124778977.1.region001X']], [['WP_113973036.1.region001X'], ['WP_140946099.1.region001X']], [['WP_113973830.1.region001'], ['WP_140946037.1.region001']], [['WP_114920235.1.region001'], ['WP_135239825.1.region001']], [['WP_114920235.1.region001'], ['WP_145752450.1.region001']], [['WP_114920235.1.region001'], ['WP_145823640.1.region001']], [['WP_114920235.1.region001'], ['WP_151013113.1.region001']], [['WP_120534177.1.region001'], ['WP_120538528.1.region001']], [['WP_120534177.1.region001'], ['WP_120538535.1.region001']], [['WP_120534177.1.region001'], ['WP_120582493.1.region001']], [['WP_120534177.1.region001'], ['WP_120609238.1.region001']], [['WP_120534177.1.region001'], ['WP_120641696.1.region001']], [['WP_120538528.1.region001'], ['WP_120538535.1.region001']], [['WP_120538528.1.region001'], ['WP_120582493.1.region001']], [['WP_120538528.1.region001'], ['WP_120609238.1.region001']], [['WP_120538528.1.region001'], ['WP_120641696.1.region001']], [['WP_120538528.1.region001X'], ['WP_120538535.1.region001X']], [['WP_120538535.1.region001'], ['WP_120582493.1.region001']], [['WP_120538535.1.region001'], ['WP_120609238.1.region001']], [['WP_120538535.1.region001'], ['WP_120641696.1.region001']], [['WP_120570204.1.region001'], ['WP_135239825.1.region001']], [['WP_120570204.1.region001'], ['WP_145752450.1.region001']], [['WP_120582493.1.region001'], ['WP_120609238.1.region001']], [['WP_120582493.1.region001'], ['WP_120641696.1.region001']], [['WP_120609238.1.region001'], ['WP_120641696.1.region001']], [['WP_120682000.1.region001'], ['WP_120690195.1.region001']], [['WP_120682000.1.region001'], ['WP_148483837.1.region001']], [['WP_120690195.1.region001'], ['WP_148483837.1.region001']], [['WP_121683566.1.region001'], ['WP_135239825.1.region001']], [['WP_121683566.1.region001'], ['WP_145752450.1.region001']], [['WP_122966462.1.region001'], ['WP_122966474.1.region001X']], [['WP_122966462.1.region001X'], ['WP_122966474.1.region001']], [['WP_124778977.1.region001'], ['WP_140946099.1.region001']], [['WP_124778977.1.region001X'], ['WP_140946099.1.region001X']], [['WP_125316201.1.region002'], ['WP_160698423.1.region001']], [['WP_125781319.1.region001'], ['WP_125798801.1.region001']], [['WP_125781319.1.region001X'], ['WP_125798801.1.region001X']], [['WP_135239825.1.region001'], ['WP_145752450.1.region001']], [['WP_135239825.1.region001'], ['WP_145823640.1.region001']], [['WP_135239825.1.region001'], ['WP_151013113.1.region001']], [['WP_145752450.1.region001'], ['WP_151013113.1.region001']], [['WP_145752450.1.region001'], ['WP_151499038.1.region001']], [['WP_145823640.1.region001'], ['WP_151013113.1.region001']], [['WP_146167753.1.region001'], ['WP_148431892.1.region001']], [['WP_154970297.1.region001'], ['WP_154970308.1.region001']], [['WP_154970297.1.region001X'], ['WP_154970308.1.region001X']], [['WP_154970297.1.region001XX'], ['WP_154970308.1.region001XX']], [['WP_154970297.1.region001XXX'], ['WP_154970308.1.region001XXX']], [['WP_154970297.1.region001XXXX'], ['WP_154970308.1.region001XXXX']], [['WP_154970297.1.region001XXXXX'], ['WP_154970308.1.region001XXXXX']]]\n"
     ]
    }
   ],
   "source": [
    "print(result)"
   ]
  },
  {
   "cell_type": "code",
   "execution_count": 25,
   "metadata": {},
   "outputs": [
    {
     "name": "stdout",
     "output_type": "stream",
     "text": [
      "202.0\n",
      "226 226\n",
      "0.8938053097345132\n"
     ]
    }
   ],
   "source": [
    "\n",
    "# #BGC0001330\n",
    "# w='ITTADSWIVDEHRMQGHGLVPGTTYLEMVRAAVARHADGREIEFREVLFTSPVIVPDDQEREMLTTVERGDDGVLRFRVYSRGAAGRQEHCAGTVVLHDPVRRSPRTAGDLLAACDVQEVIEGEAALRHRLRLDFAADGGLIRFAVHGRWRSLSRVHVGTTGMVADLELPERYAGDLDTYLLHPALLDVVGGASRVYAAEGYYLPFWYGSLRFVRGLTSRMVCH'\n",
    "# #BGC0001331\n",
    "# e='ISTADSWIVDEHRMQGHGLVPGTTYLEMVRAAVAPYAHGREIEFREVLFTSPVIVPDDQEREMLTTVERGDDAVLRFRVHSRGAAGRQEHCTGTVVLHDPVRRPPRAAADLLAACGVQEVIEGEAALRRRLRLDFAAEGGLIRFAVHGRWRSLSRVHVGTSGMVADLELPERYAGDLDTYLLHPALLDVVGGASRVYAAEGYYLPFWYGSLRFVRGLTTRMVCH'\n",
    "# #WP_019032754.1.region001\n",
    "# r='TADSWIVDEHRMQGHGLVPGTTYLEMVRAAVAPYAHGREIEFREVLFTSPVIVPDDQEREMLTTVERGDDAVLRFRVHSRGAAGRQEHCTGTVVLHDPVRRPPRAAADLLAACGVQEVIEGEAALRRRLRLDFAAEGGLIRFAVHGRWRSLSRVHVGTSGMVADLELPERYAGDLDTYLLHPALLDVVGGASRVYAAEGYYLPFWYGSLRFVRGLTTRMVCHIRV'\n",
    "# #WP_047890614.1.region001\n",
    "# v='TADSWIVDEHRMQGHGLVPGTTYLEMVRAAVARHADGREIEFREVLFTSPVIVPDDQEREMLTTVERGDDGVLRFRVYSRGAAGRQEHCAGTVVLHDPVRRSPRTAGDLLAACDVQEVIEGEAALRHRLRLDFAADGGLIRFAVHGRWRSLSRVHVGTTGMVADLELPERYAGDLDTYLLHPALLDVVGGASRVYAAEGYYLPFWYGSLRFVRGLTSRMVCHIRV'\n",
    "\n",
    "w='TEDSWIVADHRIEGHGLVPGTAYLELVRAAVAEQAAGRDIEIGDVQYMIPVVVPDGQSREVFTTIEERDGRWHFAVQSQSGAPGAAAWIDHARGTVAFPERAPETVRDLDELRAGCAVTKVLDTEESIKLGLRLDRFEKGGPIAFSFGPRWKCMREIQVGPRRVMATLRLDEAHHADLDDYLLHPALLDAAGGTARVHAPDTFYLPFSYRSLRFFHGLTSTVHAYV'\n",
    "v='TDDSWIVADHRIQGHGLVPGTAYLELVRAAVAEQAAGRGIEIGDVQYMIPVVVPDGQSREVFTTIEERDGRWHFAVQSRTGAPGGVAWTDHARGTVAFFEPEPDTVRDLDELRAGCAVTEVLDTDESIKLGLRLDRFEKGGPIEFSFGPRWGCMREIQVGPKRVLATLRLDEEYHGDLDHYLLHPALLDAAGGTARVHAPDTYYLPFSYRSLRVFHGLTGTVHAYV'\n",
    "# w='FEARAARTPDAVAVVGGAERLTYAELSAASDRLATRLRGLGVGAEGREDAVCLLMERSVRLPVALLAVVKAGGVYVPLDPRYPVSRMHLIMEDTGAGVLLVDGEGLDHPVTDGMHVLDVADAVAAVEPEGALELSHAGGPDRAAYIMYTSGSTGRPKGVAVTHGNVASLAADHVWRGGNHARVLMHSPTAFDASTYEMWVPLLSGGQVVVAPAGELDPEALVRTVREHGVTSAFFTAALFNLLVERDPAALAGMREVLAGGEALSPAVVAKALAAWPDTVLTNGYGPTETTTFAVLHRTREVADGTVPIGMPMDDSRAYVLDGRMRPVPVGVPGELYLAGGGLARGYVGRPGLTAQRFVACPFGAPGERMYRTGDLARRRADGRVEYLGRTDDQVKIR'\n",
    "# v='FEARAARTPDAVAVVGGAERLTYAELSAASDRLATRLRGLGVGAEGREDAVCLLMERSVRLPVALLAVVKAGGVYVPLDPRYPVSRMRLIMEDTGAGVLLVDGEGLDHPVTDQMRVLDVAGELAADGVPEGAPQSAHAGGPDRAAYIMYTSGSTGRPKGVAITHGNVASLAADHVWGGGNHTRVLMHSPTAFDASTYEMWVPLLSGGQVVVAPAGELDPEALVRTVREHGVTSAFFTAALFNLLVERDPAALAGMREVLAGGEALSPAVVAKALAAWPDTVLTNGYGPTETTTFAVLHRTREVADGTVPIGMPMDDSRAYVLDGRMRPVPVGVPGELYLAGGGLARGYVGRPGLTAQRFVACPFGAPGERMYRTGDLARRRADGRVEYLGRTDDQVKIR'\n",
    "# w='TADSWIVGDHRIQDHGLVPGTAYLELVRAAVAEQAAGRDVEISDVQYLVPVVVPDGQSREIFTTVEERDGRRHFAVQSRAGAPGAVTWTDHARGTVAFLDPEPDVVRDLDALLASCEVTDVLDTDESIKLGLRLDRFEKGGPIEFSFGPRWTCMKEIQVGPERVMATLRLDEEYHGDLDHYLLHPALLDAAGGTARVHAPDTYYLPFSYRSLRVLHGLTSTVHAYV'\n",
    "# v='TADSWIVGDHRIQDHGLVPGTAYLELVRAAVAEQAAGRDVEISDVQYLVPVVVPDGQSREIYTTVEERDGRRHFAVQSRAGAPGAVTWTDHARGTVAFLDPEPDVVRDLDALLASCEVTDVLDTDESIKLGLRLDRFEKGGPIEFSFGPRWTCMKEIQVGPERVMATLRLDEEYHGDLDHYLLHPALLDAAGGTARVHAPDTYYLPFSYRSLRVLHGLTSTVHAYV'\n",
    "# w= 'TADSWIVGDHRIQDHGLVPGTAYLELVRAAVAEQAAGRDVEISDVQYLVPVVVPDGQSREIYTTVEERDGRRHFAVQSRAGAPGAVTWTDHARGTVAFLDPEPDVVRDLDALLASCEVTDVLDTDESIKLGLRLDRFEKGGPIEFSFGPRWTCMKEIQVGPERVMATLRLDEEYHGDLDHYLLHPALLDAAGGTARVHAPDTYYLPFSYRSLRVLHGLTSTVHAYVE'\n",
    "# v= 'TADSWIVGDHRIQDHGLVPGTAYLELVRAAVAEQAAGRDVEISDVQYLVPVVVPDGQSREIYTTVEERDGRRHFAVQSRAGAPGAVTWTDHARGTVAFLDPEPDVVRDLDALLASCEVTDVLDTDESIKLGLRLDRFEKGGPIEFSFGPRWTCMKEIQVGPERVMATLRLDEEYHGDLDHYLLHPALLDAAGGTARVHAPDTYYLPFSYRSLRVLHGLTSTVHAYVE'\n",
    "aligner = Align.PairwiseAligner()\n",
    "alignments = aligner.align(w, v)\n",
    "score=aligner.score(w, v)\n",
    "print(score)\n",
    "print(len(w),len(v))\n",
    "print(score/max(len(w),len(v)))"
   ]
  },
  {
   "cell_type": "markdown",
   "metadata": {},
   "source": [
    "# OLD BUT GOOD CONSIDERATIONS\n",
    "https://stackoverflow.com/questions/27975069/how-to-filter-rows-containing-a-string-pattern-from-a-pandas-dataframe <br>\n",
    "I have realised that some MIBiG enteries are the same, just with different compund names <br>\n",
    "Likewise I know that some RF and GB records are duplicates because some BGCs contains multiple proteins from the blastp hit. <br>\n",
    "In that case, it does not matter which one that gets deleted internally in those groups. I'm interested in knowing the names of the duplicates across groups."
   ]
  },
  {
   "cell_type": "code",
   "execution_count": 4,
   "metadata": {},
   "outputs": [],
   "source": [
    "BGC=sorted_dub_DHs[sorted_dub_DHs['name'].str.contains(\"BGC\")]\n",
    "RS=sorted_dub_DHs[sorted_dub_DHs['name'].str.contains(\"WP_\")]\n",
    "GB=sorted_dub_DHs[~sorted_dub_DHs['name'].str.contains(\"WP_|BGC\")]"
   ]
  },
  {
   "cell_type": "markdown",
   "metadata": {},
   "source": [
    "#### Find intern duplicates\n",
    "These should be deleted from antiSMASH and BiG-SCAPE hits. <br>\n",
    "I perform 10 random sampelings across the three groups."
   ]
  },
  {
   "cell_type": "code",
   "execution_count": 5,
   "metadata": {},
   "outputs": [
    {
     "name": "stdout",
     "output_type": "stream",
     "text": [
      "Delete files with these DHs in BGCs 293\n",
      "Delete files with these DHs in RefSeq 251\n",
      "Delete files with these DHs in GB 33\n",
      "Total internal DH dublicates 577\n"
     ]
    }
   ],
   "source": [
    "BGC_del=BGC[BGC.duplicated(subset='AAseq', keep=False)]\n",
    "RS_del=RS[RS.duplicated(subset='AAseq', keep=False)]\n",
    "GB_del=GB[GB.duplicated(subset='AAseq', keep=False)]\n",
    "print('Delete files with these DHs in BGCs',len(BGC_del))\n",
    "print('Delete files with these DHs in RefSeq',len(RS_del))\n",
    "print('Delete files with these DHs in GB',len(GB_del))\n",
    "print('Total internal DH dublicates', len(BGC_del)+len(RS_del)+len(GB_del))"
   ]
  },
  {
   "cell_type": "markdown",
   "metadata": {},
   "source": [
    "#### Random sampeling\n",
    "In BiG-SCAPE I want only different compunds, and I think it is best to use the same dataset in all the analyses.\n",
    "\n",
    "BGCs: Some are excately the same, some has different compund names, some are inverted, some look like pieces of each other, some are from different organisms.  I delete the duplicates to be sure that no duplicates are present.\n",
    "RS: Two KR DH domains are present in one BGC, some are from different organisms (WP_055409222), some is on edge, some is not (WP_082722753, WP_062525444). Keep the largest record??\n",
    "GB: Fragments of each other from different organisms, two KR DH domains in one BGC.\n"
   ]
  },
  {
   "cell_type": "code",
   "execution_count": 6,
   "metadata": {},
   "outputs": [],
   "source": [
    "BGC_sample=BGC_del.sample(n=7)\n",
    "RS_sample=RS_del.sample(n=7)\n",
    "GB_sample=GB_del.sample(n=7)"
   ]
  },
  {
   "cell_type": "markdown",
   "metadata": {},
   "source": [
    "https://stackoverflow.com/questions/28679930/how-to-drop-rows-from-pandas-data-frame-that-contains-a-particular-string-in-a-p"
   ]
  }
 ],
 "metadata": {
  "kernelspec": {
   "display_name": "Python 3",
   "language": "python",
   "name": "python3"
  },
  "language_info": {
   "codemirror_mode": {
    "name": "ipython",
    "version": 3
   },
   "file_extension": ".py",
   "mimetype": "text/x-python",
   "name": "python",
   "nbconvert_exporter": "python",
   "pygments_lexer": "ipython3",
   "version": "3.7.4"
  }
 },
 "nbformat": 4,
 "nbformat_minor": 2
}
