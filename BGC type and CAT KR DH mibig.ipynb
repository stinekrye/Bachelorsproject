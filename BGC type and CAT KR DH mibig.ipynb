{
 "cells": [
  {
   "cell_type": "code",
   "execution_count": 5,
   "metadata": {},
   "outputs": [
    {
     "name": "stdout",
     "output_type": "stream",
     "text": [
      "[]\n"
     ]
    }
   ],
   "source": [
    "from Bio import SeqIO\n",
    "\n",
    "def find_type(gb_file_name):\n",
    "    types = []\n",
    "    for rec in SeqIO.parse(gb_file_name, 'gb'):\n",
    "#         print(rec.features)\n",
    "        for feature in rec.features:\n",
    "            if feature.type == \"cand_cluster\":\n",
    "                types = feature.qualifiers['product']\n",
    "#                 print(types) \n",
    "    return types\n",
    "                                \n",
    "test=find_type(r'C:\\Users\\ASUS\\Desktop\\ny_bigscape_in\\MIBiG_ny_database\\BGC0001332.gbk')\n",
    "# test2=find_cat_and_type(r'C:\\Users\\ASUS\\Desktop\\ny_bigscape_in\\blastp\\WP_099279319.1.region001.gbk')\n",
    "test3=find_type(r'C:\\Users\\ASUS\\Desktop\\ny_bigscape_in\\blastp\\WP_093723927.1.region001.gbk')\n",
    "# test4 = find_type(r'C:\\Users\\ASUS\\Desktop\\ny_bigscape_in\\blastp\\WP_101419868.1.region001.gbk')\n",
    "print(test)"
   ]
  },
  {
   "cell_type": "code",
   "execution_count": 7,
   "metadata": {},
   "outputs": [
    {
     "name": "stdout",
     "output_type": "stream",
     "text": [
      "('nrps/pks', 'after KR DH', False)\n"
     ]
    }
   ],
   "source": [
    "# FInd CAT domæne\n",
    "from Bio import SeqIO\n",
    "def find_cat_and_type(gb_file_name):\n",
    "    BGC = []\n",
    "    CATs = []\n",
    "    KRDH = 0\n",
    "    monomer = []\n",
    "    types = []\n",
    "    typ = False\n",
    "    ser = False\n",
    "    CAT_and_KRDH = False\n",
    "    for rec in SeqIO.parse(gb_file_name, 'gb'):\n",
    "        for feature in rec.features:\n",
    "            if feature.type == \"aSModule\":\n",
    "                BGC.append(feature.qualifiers['domains'])\n",
    "                if 'monomer_pairings' in feature.qualifiers.keys():\n",
    "                    monomer.append(feature.qualifiers['monomer_pairings'])\n",
    "                else:\n",
    "                    monomer.append('NaN')\n",
    "                types.append(''.join(feature.qualifiers['type']))   \n",
    "    for module in range(len(BGC)):\n",
    "#         print(module)\n",
    "        for domain in range(len(BGC[module])):\n",
    "            if 'DH' in BGC[module][domain] and 'KR' in BGC[module][domain-1]:\n",
    "                KRDH = int(module)\n",
    "            if 'PCP' in BGC[module][domain]:\n",
    "#                 print(len(BGC[module]))\n",
    "                if 'AMP' in BGC[module][domain-1] and 'Condensation' in BGC[module][domain-2]:\n",
    "                    CATs.append(int(module))\n",
    "                elif len(BGC[module]) >3:\n",
    "                    if 'AMP' in BGC[module][domain-2] and 'Condensation' in BGC[module][domain-3]:\n",
    "                        CATs.append(int(module))\n",
    "\n",
    "    CATs=sorted(CATs, reverse=True)\n",
    "    for CAT in CATs:\n",
    "        if KRDH-CAT <=2 and KRDH-CAT > 0:\n",
    "            CAT_and_KRDH = 'before KR DH'\n",
    "            if 'ser' in ''.join(monomer[CAT]):\n",
    "                ser = 'serine'\n",
    "        elif KRDH-CAT == -1:\n",
    "            CAT_and_KRDH = 'after KR DH'\n",
    "\n",
    "    if 'nrps' in types and 'pks' in types:\n",
    "        typ = 'nrps/pks'\n",
    "    elif 'nrps' in types and 'pks' not in types:\n",
    "        typ = 'nrps'\n",
    "    elif 'pks' in types and 'nrps' not in types:\n",
    "        typ = 'pks' \n",
    "                        \n",
    "#                         print(i)\n",
    "    return typ, CAT_and_KRDH,ser\n",
    "#                 types.append(''.join(feature.qualifiers['type']))\n",
    "test=find_cat_and_type(r'C:\\Users\\ASUS\\Desktop\\ny_bigscape_in\\MIBiG_ny_database\\BGC0001332.gbk')\n",
    "# test2=find_cat_and_type(r'C:\\Users\\ASUS\\Desktop\\ny_bigscape_in\\blastp\\WP_099279319.1.region001.gbk')\n",
    "# test3=find_cat_and_type(r'C:\\Users\\ASUS\\Desktop\\ny_bigscape_in\\blastp\\WP_093723927.1.region001.gbk')\n",
    "# test4 = find_cat_and_type(r'C:\\Users\\ASUS\\Desktop\\ny_bigscape_in\\blastp\\WP_101419868.1.region001.gbk')\n",
    "print(test)"
   ]
  },
  {
   "cell_type": "code",
   "execution_count": 9,
   "metadata": {},
   "outputs": [],
   "source": [
    "def make_data_lst_of_lst(directory):\n",
    "    lst_of_lst=[]\n",
    "    import os\n",
    "    for filename in os.listdir(directory):\n",
    "        name=str(filename[:-4])\n",
    "        gb_file_name=r'C:\\Users\\ASUS\\Desktop\\ny_bigscape_in\\MIBiG_ny_database\\{}'.format(filename)\n",
    "        typ,CAT_and_KRDH,ser=find_cat_and_type(gb_file_name)\n",
    "        lst_of_lst.append([name,typ,CAT_and_KRDH,ser])\n",
    "    return lst_of_lst\n",
    "\n",
    "tester=make_data_lst_of_lst(r'C:\\Users\\ASUS\\Desktop\\ny_bigscape_in\\MIBiG_ny_database')"
   ]
  },
  {
   "cell_type": "code",
   "execution_count": null,
   "metadata": {},
   "outputs": [],
   "source": []
  },
  {
   "cell_type": "code",
   "execution_count": 4,
   "metadata": {},
   "outputs": [],
   "source": [
    "# print(tester)"
   ]
  },
  {
   "cell_type": "code",
   "execution_count": 10,
   "metadata": {},
   "outputs": [],
   "source": [
    "import pandas as pd\n",
    "df=pd.DataFrame(tester, columns=['name','BGC type', 'CAT->KR DH', 'ser'])"
   ]
  },
  {
   "cell_type": "code",
   "execution_count": 11,
   "metadata": {},
   "outputs": [
    {
     "name": "stdout",
     "output_type": "stream",
     "text": [
      "            name  BGC type CAT->KR DH    ser\n",
      "0     BGC0000001       pks      False  False\n",
      "1     BGC0000002       pks      False  False\n",
      "2     BGC0000003       pks      False  False\n",
      "3     BGC0000004       pks      False  False\n",
      "4     BGC0000005     False      False  False\n",
      "...          ...       ...        ...    ...\n",
      "1905  BGC0002032       pks      False  False\n",
      "1906  BGC0002033       pks      False  False\n",
      "1907  BGC0002034      nrps      False  False\n",
      "1908  BGC0002035  nrps/pks      False  False\n",
      "1909  BGC0002036     False      False  False\n",
      "\n",
      "[1910 rows x 4 columns]\n"
     ]
    }
   ],
   "source": [
    "print(df)"
   ]
  },
  {
   "cell_type": "code",
   "execution_count": 13,
   "metadata": {},
   "outputs": [],
   "source": [
    "df.to_csv('BGC_type_and_CAT_mibig_new.txt', sep='\\t')"
   ]
  }
 ],
 "metadata": {
  "kernelspec": {
   "display_name": "Python 3",
   "language": "python",
   "name": "python3"
  },
  "language_info": {
   "codemirror_mode": {
    "name": "ipython",
    "version": 3
   },
   "file_extension": ".py",
   "mimetype": "text/x-python",
   "name": "python",
   "nbconvert_exporter": "python",
   "pygments_lexer": "ipython3",
   "version": "3.7.4"
  }
 },
 "nbformat": 4,
 "nbformat_minor": 2
}
